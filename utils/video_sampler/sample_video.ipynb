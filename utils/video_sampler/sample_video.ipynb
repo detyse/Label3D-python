{
 "cells": [
  {
   "cell_type": "code",
   "execution_count": 3,
   "metadata": {},
   "outputs": [],
   "source": [
    "import numpy as np \n",
    "import cv2\n",
    "import os\n",
    "from scipy.io import loadmat\n",
    "\n",
    "DATA_PATH = r'D:\\YL_Wang\\Label3d\\20240613\\M1\\videos'\n",
    "MAT_PATH = r'D:\\YL_Wang\\Label3d\\20240613\\M1\\20240226_202308_Label3D_dannce.mat'\n",
    "\n",
    "def video_sample_with_index(video_file_folder, indexes):\n",
    "    print(indexes)\n",
    "    print('video_file_folder:', video_file_folder)\n",
    "    dir_list = os.listdir(video_file_folder)\n",
    "    print('dir_list:', dir_list)\n",
    "    for file in dir_list:\n",
    "        video_file_d = os.path.join(video_file_folder, file)\n",
    "        video_file = os.listdir(video_file_d)[0]\n",
    "        video_file = os.path.join(video_file_d, video_file)\n",
    "        if video_file.endswith('.avi') or video_file.endswith('.mp4'):\n",
    "            print(\"run here\")\n",
    "            cap = cv2.VideoCapture(video_file)\n",
    "            frame_count = int(cap.get(cv2.CAP_PROP_FRAME_COUNT))\n",
    "            print('frame_count:', frame_count)\n",
    "            frames = []\n",
    "            for index in indexes:\n",
    "                cap.set(cv2.CAP_PROP_POS_FRAMES, index)\n",
    "                \n",
    "                ret = cap.grab()\n",
    "                if ret:\n",
    "                    print('grab')\n",
    "                    ret, frame = cap.retrieve()\n",
    "                    if ret:\n",
    "                        rgb_frame = cv2.cvtColor(frame, cv2.COLOR_BGR2RGB)\n",
    "                        frames.append(rgb_frame)\n",
    "\n",
    "            cap.release()\n",
    "\n",
    "            frames = np.array(frames)\n",
    "\n",
    "            # save the frames\n",
    "            save_folder = os.path.join(video_file_d, 'frames.npy')\n",
    "            np.save(save_folder, frames)\n",
    "\n",
    "    return\n",
    "\n",
    "\n",
    "def get_labeled_frame_index(mat_path):\n",
    "    mat = loadmat(mat_path)\n",
    "    label_data = mat['labelData']\n",
    "\n",
    "    indexes = label_data[0][0][0][0]['data_frame']\n",
    "    return indexes[0]"
   ]
  },
  {
   "cell_type": "code",
   "execution_count": 4,
   "metadata": {},
   "outputs": [
    {
     "name": "stdout",
     "output_type": "stream",
     "text": [
      "[    0   225   450   675   900  1125  1350  1575  1800  2025  2250  2475\n",
      "  2700  2925  3150  3375  3600  3825  4050  4275  4500  4725  4950  5175\n",
      "  5400  5625  5850  6075  6300  6525  6750  6975  7200  7425  7650  7875\n",
      "  8100  8325  8550  8775  9000  9225  9450  9675  9900 10125 10350 10575\n",
      " 10800 11025 11250 11475 11700 11925 12150 12375 12600 12825 13050 13275\n",
      " 13500 13725 13950 14175 14400 14625 14850 15075 15300 15525 15750 15975\n",
      " 16200 16425 16650 16875 17100 17325 17550 17775 18000 18225 18450 18675\n",
      " 18900 19125 19350 19575 19800 20025 20250 20475 20700 20925 21150 21375\n",
      " 21600 21825 22050 22275]\n",
      "video_file_folder: D:\\YL_Wang\\Label3d\\20240613\\M1\\videos\n",
      "dir_list: ['Camera1', 'Camera2', 'Camera3', 'Camera4', 'Camera5', 'Camera6', 'shuffled_repeat_indexes.npy', 'video_frames_index.npy']\n",
      "run here\n",
      "frame_count: 22500\n",
      "grab\n",
      "grab\n",
      "grab\n",
      "grab\n"
     ]
    },
    {
     "ename": "KeyboardInterrupt",
     "evalue": "",
     "output_type": "error",
     "traceback": [
      "\u001b[1;31m---------------------------------------------------------------------------\u001b[0m",
      "\u001b[1;31mKeyboardInterrupt\u001b[0m                         Traceback (most recent call last)",
      "Cell \u001b[1;32mIn[4], line 4\u001b[0m\n\u001b[0;32m      1\u001b[0m \u001b[38;5;66;03m# run here\u001b[39;00m\n\u001b[0;32m      3\u001b[0m indexes \u001b[38;5;241m=\u001b[39m get_labeled_frame_index(MAT_PATH)\n\u001b[1;32m----> 4\u001b[0m \u001b[43mvideo_sample_with_index\u001b[49m\u001b[43m(\u001b[49m\u001b[43mDATA_PATH\u001b[49m\u001b[43m,\u001b[49m\u001b[43m \u001b[49m\u001b[43mindexes\u001b[49m\u001b[43m)\u001b[49m\n",
      "Cell \u001b[1;32mIn[3], line 25\u001b[0m, in \u001b[0;36mvideo_sample_with_index\u001b[1;34m(video_file_folder, indexes)\u001b[0m\n\u001b[0;32m     23\u001b[0m frames \u001b[38;5;241m=\u001b[39m []\n\u001b[0;32m     24\u001b[0m \u001b[38;5;28;01mfor\u001b[39;00m index \u001b[38;5;129;01min\u001b[39;00m indexes:\n\u001b[1;32m---> 25\u001b[0m     \u001b[43mcap\u001b[49m\u001b[38;5;241;43m.\u001b[39;49m\u001b[43mset\u001b[49m\u001b[43m(\u001b[49m\u001b[43mcv2\u001b[49m\u001b[38;5;241;43m.\u001b[39;49m\u001b[43mCAP_PROP_POS_FRAMES\u001b[49m\u001b[43m,\u001b[49m\u001b[43m \u001b[49m\u001b[43mindex\u001b[49m\u001b[43m)\u001b[49m\n\u001b[0;32m     27\u001b[0m     ret \u001b[38;5;241m=\u001b[39m cap\u001b[38;5;241m.\u001b[39mgrab()\n\u001b[0;32m     28\u001b[0m     \u001b[38;5;28;01mif\u001b[39;00m ret:\n",
      "\u001b[1;31mKeyboardInterrupt\u001b[0m: "
     ]
    }
   ],
   "source": [
    "# run here\n",
    "\n",
    "indexes = get_labeled_frame_index(MAT_PATH)\n",
    "video_sample_with_index(DATA_PATH, indexes)"
   ]
  },
  {
   "cell_type": "code",
   "execution_count": 34,
   "metadata": {},
   "outputs": [
    {
     "name": "stdout",
     "output_type": "stream",
     "text": [
      "dict_keys(['__header__', '__version__', '__globals__', 'camnames', 'labelData', 'params', 'sync'])\n",
      "[[    0   225   450   675   900  1125  1350  1575  1800  2025  2250  2475\n",
      "   2700  2925  3150  3375  3600  3825  4050  4275  4500  4725  4950  5175\n",
      "   5400  5625  5850  6075  6300  6525  6750  6975  7200  7425  7650  7875\n",
      "   8100  8325  8550  8775  9000  9225  9450  9675  9900 10125 10350 10575\n",
      "  10800 11025 11250 11475 11700 11925 12150 12375 12600 12825 13050 13275\n",
      "  13500 13725 13950 14175 14400 14625 14850 15075 15300 15525 15750 15975\n",
      "  16200 16425 16650 16875 17100 17325 17550 17775 18000 18225 18450 18675\n",
      "  18900 19125 19350 19575 19800 20025 20250 20475 20700 20925 21150 21375\n",
      "  21600 21825 22050 22275]]\n"
     ]
    }
   ],
   "source": [
    "# \n",
    "mat = loadmat(MAT_PATH)\n",
    "\n",
    "print(mat.keys())\n",
    "\n",
    "label_data = mat['labelData']\n",
    "\n",
    "print(label_data[0][0][0][0]['data_frame'])"
   ]
  },
  {
   "cell_type": "code",
   "execution_count": 49,
   "metadata": {},
   "outputs": [
    {
     "name": "stdout",
     "output_type": "stream",
     "text": [
      "(100, 1080, 1440, 3)\n"
     ]
    }
   ],
   "source": [
    "# have a look\n",
    "npy_path = r\"D:\\YL_Wang\\Label3d\\20240613\\M1\\videos\\Camera6\\frames.npy\"\n",
    "\n",
    "import numpy as np\n",
    "\n",
    "data = np.load(npy_path)\n",
    "\n",
    "print(data.shape)"
   ]
  },
  {
   "cell_type": "code",
   "execution_count": 50,
   "metadata": {},
   "outputs": [
    {
     "name": "stdout",
     "output_type": "stream",
     "text": [
      "100\n",
      "(1080, 1440, 3)\n"
     ]
    }
   ],
   "source": [
    "# \n",
    "frame_list = list(data)\n",
    "\n",
    "print(len(frame_list))\n",
    "\n",
    "print(frame_list[0].shape)"
   ]
  },
  {
   "cell_type": "code",
   "execution_count": 55,
   "metadata": {},
   "outputs": [],
   "source": [
    "indexes = get_labeled_frame_index(MAT_PATH)\n",
    "shuffled_repeat_indexes = []\n",
    "for i, index in enumerate(indexes):\n",
    "    if i < 60:\n",
    "        shuffled_repeat_indexes.append(index)\n",
    "    else:\n",
    "        shuffled_repeat_indexes.append(indexes[60])\n",
    "\n",
    "np.random.shuffle(shuffled_repeat_indexes)"
   ]
  },
  {
   "cell_type": "code",
   "execution_count": 60,
   "metadata": {},
   "outputs": [
    {
     "name": "stdout",
     "output_type": "stream",
     "text": [
      "[13500, 9675, 11250, 13500, 8325, 13500, 3150, 13500, 13500, 3825, 10125, 13500, 6750, 13500, 13500, 13500, 7875, 13500, 9450, 13500, 9900, 13500, 13500, 13500, 0, 4500, 13500, 10350, 5175, 2250, 10575, 13500, 13500, 13275, 9000, 13500, 2700, 13500, 900, 7650, 7200, 13500, 13500, 6300, 12150, 2475, 4725, 13500, 12825, 13500, 450, 13500, 13500, 8550, 13500, 13500, 13500, 4950, 3375, 8100, 5400, 6525, 11025, 13500, 13500, 675, 1575, 13500, 9225, 13500, 13500, 8775, 13500, 13500, 7425, 13500, 4275, 13500, 11700, 12600, 1800, 13050, 225, 13500, 2025, 6075, 13500, 2925, 13500, 11925, 5850, 1125, 4050, 6975, 10800, 5625, 12375, 11475, 3600, 1350]\n",
      "100\n"
     ]
    }
   ],
   "source": [
    "print(shuffled_repeat_indexes)\n",
    "print(len(shuffled_repeat_indexes))"
   ]
  },
  {
   "cell_type": "code",
   "execution_count": 59,
   "metadata": {},
   "outputs": [
    {
     "name": "stdout",
     "output_type": "stream",
     "text": [
      "Counter({13500: 40, 9675: 1, 11250: 1, 8325: 1, 3150: 1, 3825: 1, 10125: 1, 6750: 1, 7875: 1, 9450: 1, 9900: 1, 0: 1, 4500: 1, 10350: 1, 5175: 1, 2250: 1, 10575: 1, 13275: 1, 9000: 1, 2700: 1, 900: 1, 7650: 1, 7200: 1, 6300: 1, 12150: 1, 2475: 1, 4725: 1, 12825: 1, 450: 1, 8550: 1, 4950: 1, 3375: 1, 8100: 1, 5400: 1, 6525: 1, 11025: 1, 675: 1, 1575: 1, 9225: 1, 8775: 1, 7425: 1, 4275: 1, 11700: 1, 12600: 1, 1800: 1, 13050: 1, 225: 1, 2025: 1, 6075: 1, 2925: 1, 11925: 1, 5850: 1, 1125: 1, 4050: 1, 6975: 1, 10800: 1, 5625: 1, 12375: 1, 11475: 1, 3600: 1, 1350: 1})\n"
     ]
    }
   ],
   "source": [
    "# count the most index\n",
    "from collections import Counter\n",
    "\n",
    "counter = Counter(shuffled_repeat_indexes)\n",
    "\n",
    "print(counter)"
   ]
  },
  {
   "cell_type": "code",
   "execution_count": 1,
   "metadata": {},
   "outputs": [],
   "source": [
    "# \n",
    "def repeat_and_save_the_index(frames_list_path, shuffled_index):\n",
    "    frames = np.load(frames_list_path)\n",
    "\n",
    "    repeated_frames = []\n",
    "    for i, index in enumerate(shuffled_index):\n",
    "        repeated_frames.append(frames[index])\n",
    "\n",
    "    return np.array(repeated_frames)\n"
   ]
  },
  {
   "cell_type": "code",
   "execution_count": 5,
   "metadata": {},
   "outputs": [
    {
     "name": "stdout",
     "output_type": "stream",
     "text": [
      "npy_path: D:\\YL_Wang\\Label3d\\20240613\\M1\\videos\\Camera1\\frames.npy\n",
      "npy_path: D:\\YL_Wang\\Label3d\\20240613\\M1\\videos\\Camera2\\frames.npy\n",
      "npy_path: D:\\YL_Wang\\Label3d\\20240613\\M1\\videos\\Camera3\\frames.npy\n",
      "npy_path: D:\\YL_Wang\\Label3d\\20240613\\M1\\videos\\Camera4\\frames.npy\n",
      "npy_path: D:\\YL_Wang\\Label3d\\20240613\\M1\\videos\\Camera5\\frames.npy\n",
      "npy_path: D:\\YL_Wang\\Label3d\\20240613\\M1\\videos\\Camera6\\frames.npy\n",
      "npy_path: D:\\YL_Wang\\Label3d\\20240613\\M1\\videos\\shuffled_repeat_indexes.npy\\frames.npy\n"
     ]
    },
    {
     "ename": "FileNotFoundError",
     "evalue": "[Errno 2] No such file or directory: 'D:\\\\YL_Wang\\\\Label3d\\\\20240613\\\\M1\\\\videos\\\\shuffled_repeat_indexes.npy\\\\frames.npy'",
     "output_type": "error",
     "traceback": [
      "\u001b[1;31m---------------------------------------------------------------------------\u001b[0m",
      "\u001b[1;31mFileNotFoundError\u001b[0m                         Traceback (most recent call last)",
      "Cell \u001b[1;32mIn[5], line 37\u001b[0m\n\u001b[0;32m     35\u001b[0m     npy_path \u001b[38;5;241m=\u001b[39m os\u001b[38;5;241m.\u001b[39mpath\u001b[38;5;241m.\u001b[39mjoin(sub_folder, \u001b[38;5;124m'\u001b[39m\u001b[38;5;124mframes.npy\u001b[39m\u001b[38;5;124m'\u001b[39m)\n\u001b[0;32m     36\u001b[0m     \u001b[38;5;28mprint\u001b[39m(\u001b[38;5;124m'\u001b[39m\u001b[38;5;124mnpy_path:\u001b[39m\u001b[38;5;124m'\u001b[39m, npy_path)\n\u001b[1;32m---> 37\u001b[0m     repeated_frames \u001b[38;5;241m=\u001b[39m \u001b[43mrepeat_and_save_the_index\u001b[49m\u001b[43m(\u001b[49m\u001b[43mnpy_path\u001b[49m\u001b[43m,\u001b[49m\u001b[43m \u001b[49m\u001b[43mshuffled_repeat_indexes\u001b[49m\u001b[43m)\u001b[49m\n\u001b[0;32m     38\u001b[0m     np\u001b[38;5;241m.\u001b[39msave(os\u001b[38;5;241m.\u001b[39mpath\u001b[38;5;241m.\u001b[39mjoin(sub_folder, \u001b[38;5;124m'\u001b[39m\u001b[38;5;124mrepeated_frames.npy\u001b[39m\u001b[38;5;124m'\u001b[39m), repeated_frames)\n\u001b[0;32m     40\u001b[0m np\u001b[38;5;241m.\u001b[39msave(os\u001b[38;5;241m.\u001b[39mpath\u001b[38;5;241m.\u001b[39mjoin(DATA_PATH, \u001b[38;5;124m'\u001b[39m\u001b[38;5;124mshuffled_repeat_indexes.npy\u001b[39m\u001b[38;5;124m'\u001b[39m), shuffled_repeat_indexes)\n",
      "Cell \u001b[1;32mIn[1], line 4\u001b[0m, in \u001b[0;36mrepeat_and_save_the_index\u001b[1;34m(frames_list_path, shuffled_index)\u001b[0m\n\u001b[0;32m      2\u001b[0m \u001b[38;5;28;01mdef\u001b[39;00m \u001b[38;5;21mrepeat_and_save_the_index\u001b[39m(frames_list_path, shuffled_index):\n\u001b[0;32m      3\u001b[0m     \u001b[38;5;66;03m# repeat the 51 frame 50 times and shuffle\u001b[39;00m\n\u001b[1;32m----> 4\u001b[0m     frames \u001b[38;5;241m=\u001b[39m \u001b[43mnp\u001b[49m\u001b[38;5;241;43m.\u001b[39;49m\u001b[43mload\u001b[49m\u001b[43m(\u001b[49m\u001b[43mframes_list_path\u001b[49m\u001b[43m)\u001b[49m\n\u001b[0;32m      6\u001b[0m     repeated_frames \u001b[38;5;241m=\u001b[39m []\n\u001b[0;32m      7\u001b[0m     \u001b[38;5;28;01mfor\u001b[39;00m i, index \u001b[38;5;129;01min\u001b[39;00m \u001b[38;5;28menumerate\u001b[39m(shuffled_index):\n",
      "File \u001b[1;32md:\\anaconda\\envs\\qt\\lib\\site-packages\\numpy\\lib\\npyio.py:427\u001b[0m, in \u001b[0;36mload\u001b[1;34m(file, mmap_mode, allow_pickle, fix_imports, encoding, max_header_size)\u001b[0m\n\u001b[0;32m    425\u001b[0m     own_fid \u001b[38;5;241m=\u001b[39m \u001b[38;5;28;01mFalse\u001b[39;00m\n\u001b[0;32m    426\u001b[0m \u001b[38;5;28;01melse\u001b[39;00m:\n\u001b[1;32m--> 427\u001b[0m     fid \u001b[38;5;241m=\u001b[39m stack\u001b[38;5;241m.\u001b[39menter_context(\u001b[38;5;28;43mopen\u001b[39;49m\u001b[43m(\u001b[49m\u001b[43mos_fspath\u001b[49m\u001b[43m(\u001b[49m\u001b[43mfile\u001b[49m\u001b[43m)\u001b[49m\u001b[43m,\u001b[49m\u001b[43m \u001b[49m\u001b[38;5;124;43m\"\u001b[39;49m\u001b[38;5;124;43mrb\u001b[39;49m\u001b[38;5;124;43m\"\u001b[39;49m\u001b[43m)\u001b[49m)\n\u001b[0;32m    428\u001b[0m     own_fid \u001b[38;5;241m=\u001b[39m \u001b[38;5;28;01mTrue\u001b[39;00m\n\u001b[0;32m    430\u001b[0m \u001b[38;5;66;03m# Code to distinguish from NumPy binary files and pickles.\u001b[39;00m\n",
      "\u001b[1;31mFileNotFoundError\u001b[0m: [Errno 2] No such file or directory: 'D:\\\\YL_Wang\\\\Label3d\\\\20240613\\\\M1\\\\videos\\\\shuffled_repeat_indexes.npy\\\\frames.npy'"
     ]
    }
   ],
   "source": [
    "## repeat the frames and save and save the shuffled index\n",
    "# get the index\n",
    "MAT_PATH = r'D:\\YL_Wang\\Label3d\\20240613\\M1\\20240226_202308_Label3D_dannce.mat'\n",
    "indexes = get_labeled_frame_index(MAT_PATH)\n",
    "index_of_index = np.arange(len(indexes))\n",
    "\n",
    "shuffled_repeat_indexes = []\n",
    "# for i, index in enumerate(index_of_index):\n",
    "#     if i < 60:\n",
    "#         shuffled_repeat_indexes.append(index)\n",
    "#     else:\n",
    "#         shuffled_repeat_indexes.append(index_of_index[60])\n",
    "\n",
    "# repeat once\n",
    "for i, index in enumerate(index_of_index):\n",
    "    if len(shuffled_repeat_indexes) < 100:\n",
    "        shuffled_repeat_indexes.append(index)\n",
    "        shuffled_repeat_indexes.append(index)\n",
    "    else: \n",
    "        break\n",
    "\n",
    "np.random.shuffle(shuffled_repeat_indexes)\n",
    "\n",
    "# get the video index according to the shuffled index\n",
    "video_index = []\n",
    "for index in shuffled_repeat_indexes:\n",
    "    video_index.append(indexes[index])\n",
    "\n",
    "# folder operations\n",
    "\n",
    "DATA_PATH = r'D:\\YL_Wang\\Label3d\\20240613\\M1\\videos'\n",
    "\n",
    "for file in os.listdir(DATA_PATH):\n",
    "    sub_folder = os.path.join(DATA_PATH, file)\n",
    "    npy_path = os.path.join(sub_folder, 'frames.npy')\n",
    "    print('npy_path:', npy_path)\n",
    "    repeated_frames = repeat_and_save_the_index(npy_path, shuffled_repeat_indexes)\n",
    "    np.save(os.path.join(sub_folder, 'repeated_frames.npy'), repeated_frames)\n",
    "\n",
    "np.save(os.path.join(DATA_PATH, 'shuffled_repeat_indexes.npy'), shuffled_repeat_indexes)\n",
    "np.save(os.path.join(DATA_PATH, 'video_frames_index.npy'), video_index)"
   ]
  },
  {
   "cell_type": "code",
   "execution_count": 68,
   "metadata": {},
   "outputs": [
    {
     "name": "stdout",
     "output_type": "stream",
     "text": [
      "[29, 60, 25, 53, 60, 27, 35, 6, 49, 60, 60, 18, 60, 60, 7, 60, 14, 60, 11, 24, 39, 10, 32, 28, 60, 60, 60, 60, 12, 30, 60, 17, 60, 36, 31, 52, 60, 42, 23, 0, 22, 44, 50, 60, 60, 60, 46, 60, 60, 59, 60, 57, 4, 19, 51, 60, 56, 47, 43, 38, 34, 20, 2, 1, 60, 3, 41, 60, 21, 60, 33, 13, 60, 55, 16, 60, 60, 15, 26, 60, 40, 54, 60, 9, 60, 60, 60, 60, 60, 60, 60, 37, 60, 60, 8, 5, 45, 48, 58, 60]\n"
     ]
    }
   ],
   "source": [
    "print(shuffled_repeat_indexes)"
   ]
  },
  {
   "cell_type": "code",
   "execution_count": 6,
   "metadata": {},
   "outputs": [
    {
     "name": "stdout",
     "output_type": "stream",
     "text": [
      "[8550, 1575, 675, 4725, 2025, 5850, 3600, 6300, 2025, 5625, 1800, 9000, 10125, 8100, 10800, 900, 9675, 1125, 7650, 6750, 7425, 6525, 6075, 7200, 4500, 3150, 4050, 3375, 10350, 3375, 4725, 2700, 9225, 9450, 1125, 4950, 1800, 6075, 10350, 2250, 10800, 3150, 7875, 7425, 4275, 8775, 450, 1350, 6525, 11025, 0, 3825, 8325, 7200, 8775, 225, 2475, 4275, 0, 5400, 8325, 6975, 5850, 4950, 10125, 5175, 7650, 900, 9900, 4050, 7875, 2700, 2250, 6750, 675, 4500, 2475, 9000, 10575, 8550, 1350, 11025, 8100, 2925, 6300, 9225, 225, 3825, 5175, 450, 1575, 5625, 5400, 2925, 10575, 6975, 9900, 3600, 9675, 9450]\n"
     ]
    }
   ],
   "source": [
    "print(video_index)"
   ]
  },
  {
   "cell_type": "code",
   "execution_count": 7,
   "metadata": {},
   "outputs": [
    {
     "name": "stdout",
     "output_type": "stream",
     "text": [
      "Counter({38: 2, 7: 2, 3: 2, 21: 2, 9: 2, 26: 2, 16: 2, 28: 2, 25: 2, 8: 2, 40: 2, 45: 2, 36: 2, 48: 2, 4: 2, 43: 2, 5: 2, 34: 2, 30: 2, 33: 2, 29: 2, 27: 2, 32: 2, 20: 2, 14: 2, 18: 2, 15: 2, 46: 2, 12: 2, 41: 2, 42: 2, 22: 2, 10: 2, 35: 2, 19: 2, 39: 2, 2: 2, 6: 2, 49: 2, 0: 2, 17: 2, 37: 2, 1: 2, 11: 2, 24: 2, 31: 2, 23: 2, 44: 2, 47: 2, 13: 2})\n"
     ]
    }
   ],
   "source": [
    "# count the repeats\n",
    "from collections import Counter\n",
    "\n",
    "counter = Counter(shuffled_repeat_indexes)\n",
    "\n",
    "print(counter)"
   ]
  },
  {
   "cell_type": "code",
   "execution_count": null,
   "metadata": {},
   "outputs": [],
   "source": []
  }
 ],
 "metadata": {
  "kernelspec": {
   "display_name": "qt",
   "language": "python",
   "name": "python3"
  },
  "language_info": {
   "codemirror_mode": {
    "name": "ipython",
    "version": 3
   },
   "file_extension": ".py",
   "mimetype": "text/x-python",
   "name": "python",
   "nbconvert_exporter": "python",
   "pygments_lexer": "ipython3",
   "version": "3.10.13"
  }
 },
 "nbformat": 4,
 "nbformat_minor": 2
}
