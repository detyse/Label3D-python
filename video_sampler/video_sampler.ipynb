{
 "cells": [
  {
   "cell_type": "code",
   "execution_count": 1,
   "metadata": {},
   "outputs": [
    {
     "name": "stdout",
     "output_type": "stream",
     "text": [
      "[29 60 25 53 60 27 35  6 49 60 60 18 60 60  7 60 14 60 11 24 39 10 32 28\n",
      " 60 60 60 60 12 30 60 17 60 36 31 52 60 42 23  0 22 44 50 60 60 60 46 60\n",
      " 60 59 60 57  4 19 51 60 56 47 43 38 34 20  2  1 60  3 41 60 21 60 33 13\n",
      " 60 55 16 60 60 15 26 60 40 54 60  9 60 60 60 60 60 60 60 37 60 60  8  5\n",
      " 45 48 58 60]\n",
      "[ 6525 13500  5625 11925 13500  6075  7875  1350 11025 13500 13500  4050\n",
      " 13500 13500  1575 13500  3150 13500  2475  5400  8775  2250  7200  6300\n",
      " 13500 13500 13500 13500  2700  6750 13500  3825 13500  8100  6975 11700\n",
      " 13500  9450  5175     0  4950  9900 11250 13500 13500 13500 10350 13500\n",
      " 13500 13275 13500 12825   900  4275 11475 13500 12600 10575  9675  8550\n",
      "  7650  4500   450   225 13500   675  9225 13500  4725 13500  7425  2925\n",
      " 13500 12375  3600 13500 13500  3375  5850 13500  9000 12150 13500  2025\n",
      " 13500 13500 13500 13500 13500 13500 13500  8325 13500 13500  1800  1125\n",
      " 10125 10800 13050 13500]\n"
     ]
    }
   ],
   "source": [
    "# just write the code for grab the frames\n",
    "\n",
    "import numpy as np\n",
    "\n",
    "INDEX_PATH = r\"D:\\YL_Wang\\Label3d\\20240613\\M1\\shuffled_repeat_indexes.npy\"\n",
    "VIDEO_INDEX = r\"D:\\YL_Wang\\Label3d\\20240613\\M1\\video_frames_index.npy\"\n",
    "\n",
    "index = np.load(INDEX_PATH)\n",
    "video_index = np.load(VIDEO_INDEX)\n",
    "\n",
    "print(index)\n",
    "print(video_index)\n"
   ]
  },
  {
   "cell_type": "markdown",
   "metadata": {},
   "source": [
    "## it is not fine"
   ]
  },
  {
   "cell_type": "code",
   "execution_count": null,
   "metadata": {},
   "outputs": [],
   "source": [
    "# \n",
    "import numpy as np\n",
    "import cv2\n",
    "import os\n",
    "from scipy.io import loadmat\n",
    "\n",
    "DATA_PATH = r'D:\\YL_Wang\\Label3d\\20240613\\M1\\videos'\n",
    "MAT_PATH = r'D:\\YL_Wang\\Label3d\\20240613\\M1\\20240226_202308_Label3D_dannce.mat'\n",
    "\n",
    "def video_sample_with_index(video_file_folder, indexes):\n",
    "    dir_list = os.listdir(video_file_folder)\n",
    "    for file in dir_list:\n",
    "        video_file_d = os.path.join(video_file_folder, file)\n",
    "        video_file = os.listdir(video_file_d)[0]\n",
    "        video_file = os.path.join(video_file_d, video_file)\n",
    "        if video_file.endswith('.mp4') or video_file.endswith('.avi'):\n",
    "    return "
   ]
  }
 ],
 "metadata": {
  "kernelspec": {
   "display_name": "qt",
   "language": "python",
   "name": "python3"
  },
  "language_info": {
   "codemirror_mode": {
    "name": "ipython",
    "version": 3
   },
   "file_extension": ".py",
   "mimetype": "text/x-python",
   "name": "python",
   "nbconvert_exporter": "python",
   "pygments_lexer": "ipython3",
   "version": "3.10.13"
  }
 },
 "nbformat": 4,
 "nbformat_minor": 2
}
