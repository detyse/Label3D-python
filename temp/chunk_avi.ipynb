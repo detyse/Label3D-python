{
 "cells": [
  {
   "cell_type": "markdown",
   "metadata": {},
   "source": [
    "# code for chunk and save a new avi video for loading time saving"
   ]
  },
  {
   "cell_type": "code",
   "execution_count": 9,
   "metadata": {},
   "outputs": [
    {
     "name": "stdout",
     "output_type": "stream",
     "text": [
      "d:\\YL_Wang\\_personal\\temp\\24-03-13\\videos\\Camera1\\0.avi\n",
      "d:\\YL_Wang\\_personal\\temp\\24-03-13\\videos\\Camera1\\1.avi\n",
      "d:\\YL_Wang\\_personal\\temp\\24-03-13\\videos\\Camera2\\0.avi\n",
      "d:\\YL_Wang\\_personal\\temp\\24-03-13\\videos\\Camera2\\1.avi\n",
      "d:\\YL_Wang\\_personal\\temp\\24-03-13\\videos\\Camera3\\0.avi\n",
      "d:\\YL_Wang\\_personal\\temp\\24-03-13\\videos\\Camera3\\1.avi\n",
      "d:\\YL_Wang\\_personal\\temp\\24-03-13\\videos\\Camera4\\0.avi\n",
      "d:\\YL_Wang\\_personal\\temp\\24-03-13\\videos\\Camera4\\1.avi\n",
      "d:\\YL_Wang\\_personal\\temp\\24-03-13\\videos\\Camera5\\0.avi\n",
      "d:\\YL_Wang\\_personal\\temp\\24-03-13\\videos\\Camera5\\1.avi\n",
      "d:\\YL_Wang\\_personal\\temp\\24-03-13\\videos\\Camera6\\0.avi\n",
      "d:\\YL_Wang\\_personal\\temp\\24-03-13\\videos\\Camera6\\1.avi\n"
     ]
    }
   ],
   "source": [
    "# \n",
    "import cv2\n",
    "import os\n",
    "\n",
    "FOLDER_PATH = r\"d:\\YL_Wang\\_personal\\temp\\24-03-13\\videos\"\n",
    "\n",
    "def chunk_and_save(video_path, chunk_length):\n",
    "    # get the dirname of the video file\n",
    "    video_dir = os.path.dirname(video_path)\n",
    "    save_path = os.path.join(video_dir, \"1.avi\")\n",
    "\n",
    "    # chunk the video\n",
    "    cap = cv2.VideoCapture(video_path)\n",
    "    fps = cap.get(cv2.CAP_PROP_FPS)\n",
    "    width = int(cap.get(cv2.CAP_PROP_FRAME_WIDTH))\n",
    "    height = int(cap.get(cv2.CAP_PROP_FRAME_HEIGHT))\n",
    "    frame_size = (width, height)\n",
    "    # frame_count = cap.get(cv2.CAP_PROP_FRAME_COUNT)\n",
    "    # chunk_frame_count = fps * chunk_length\n",
    "\n",
    "    # save the chunked video into avi file\n",
    "    out = cv2.VideoWriter(save_path, cv2.VideoWriter_fourcc(*'mp4v'), fps, frame_size)\n",
    "\n",
    "    # when frame number meet the chunk_frame_count    \n",
    "    frame_count = 0\n",
    "    while True:\n",
    "        ret, frame = cap.read()\n",
    "        if not ret or frame_count > chunk_length:\n",
    "            break\n",
    "        out.write(frame)\n",
    "        frame_count += 1\n",
    "\n",
    "    cap.release()\n",
    "    out.release()\n",
    "\n",
    "    return\n",
    "\n",
    "# find all the video files in the folder\n",
    "for root, dirs, files in os.walk(FOLDER_PATH):\n",
    "    for file in files:\n",
    "        if file.endswith(\".avi\"):\n",
    "            print(os.path.join(root, file))\n",
    "            chunk_and_save(os.path.join(root, file), 10)\n",
    "\n",
    "# test and run here\n",
    "# chunk_and_save(FOLDER_PATH, 100)"
   ]
  }
 ],
 "metadata": {
  "kernelspec": {
   "display_name": "qt",
   "language": "python",
   "name": "python3"
  },
  "language_info": {
   "codemirror_mode": {
    "name": "ipython",
    "version": 3
   },
   "file_extension": ".py",
   "mimetype": "text/x-python",
   "name": "python",
   "nbconvert_exporter": "python",
   "pygments_lexer": "ipython3",
   "version": "3.10.13"
  }
 },
 "nbformat": 4,
 "nbformat_minor": 2
}
